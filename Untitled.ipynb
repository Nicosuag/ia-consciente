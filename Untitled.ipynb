{
 "cells": [
  {
   "cell_type": "code",
   "execution_count": 1,
   "id": "9696d5fa-de68-4ebd-8c59-8603b01dfa31",
   "metadata": {},
   "outputs": [
    {
     "name": "stdout",
     "output_type": "stream",
     "text": [
      "Mi primer array con NumPy:\n",
      "[1 2 3 4 5]\n",
      "El array multiplicado por 10:\n",
      "[10 20 30 40 50]\n"
     ]
    }
   ],
   "source": [
    "import numpy as np\n",
    "\n",
    "mi_array = np.array([1, 2, 3, 4, 5])\n",
    "print(\"Mi primer array con NumPy:\")\n",
    "print(mi_array)\n",
    "print(\"El array multiplicado por 10:\")\n",
    "print(mi_array * 10)"
   ]
  },
  {
   "cell_type": "code",
   "execution_count": null,
   "id": "ac7ac703-cefe-48da-960c-d1ea1824ad18",
   "metadata": {},
   "outputs": [],
   "source": []
  }
 ],
 "metadata": {
  "kernelspec": {
   "display_name": "Python 3 (ipykernel)",
   "language": "python",
   "name": "python3"
  },
  "language_info": {
   "codemirror_mode": {
    "name": "ipython",
    "version": 3
   },
   "file_extension": ".py",
   "mimetype": "text/x-python",
   "name": "python",
   "nbconvert_exporter": "python",
   "pygments_lexer": "ipython3",
   "version": "3.13.2"
  }
 },
 "nbformat": 4,
 "nbformat_minor": 5
}
